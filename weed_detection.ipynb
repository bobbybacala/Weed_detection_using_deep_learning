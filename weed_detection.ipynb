{
 "cells": [
  {
   "cell_type": "markdown",
   "id": "66c71bfd-e212-4a20-a12f-1f42514ef73a",
   "metadata": {},
   "source": [
    "## Importing Libraries"
   ]
  },
  {
   "cell_type": "code",
   "execution_count": 8,
   "id": "e8242432-7ee6-4587-a077-bcea46838284",
   "metadata": {},
   "outputs": [
    {
     "name": "stdout",
     "output_type": "stream",
     "text": [
      "Imported\n"
     ]
    }
   ],
   "source": [
    "import tensorflow as tf\n",
    "import matplotlib.pyplot as plt\n",
    "import pandas as pd\n",
    "import seaborn as sns\n",
    "print(\"Imported\")"
   ]
  },
  {
   "cell_type": "markdown",
   "id": "402a7619-b1e5-43f2-9cdb-1ee8ced5aa58",
   "metadata": {},
   "source": [
    "## Data Pre-processing"
   ]
  },
  {
   "cell_type": "markdown",
   "id": "fb8de317-6c82-4073-b3e4-bc059210f0c2",
   "metadata": {},
   "source": [
    "### Training Images Preprocessing"
   ]
  },
  {
   "cell_type": "code",
   "execution_count": 2,
   "id": "360d6560-d27e-4664-b490-7e8a9b6833b4",
   "metadata": {
    "scrolled": true
   },
   "outputs": [
    {
     "name": "stdout",
     "output_type": "stream",
     "text": [
      "Found 628 files belonging to 7 classes.\n"
     ]
    }
   ],
   "source": [
    "training_set = tf.keras.utils.image_dataset_from_directory(\n",
    "    'train',\n",
    "    labels=\"inferred\",\n",
    "    label_mode=\"categorical\", ##label_mode = \"categorical\" , as we are solving problem of 7 classes, multiclasses(more than 2 classes), model should predict the correct class\n",
    "    class_names=None, # same name as of sub-directory name\n",
    "    color_mode=\"rgb\",\n",
    "    batch_size=32,\n",
    "    image_size=(128, 128),  \n",
    "    shuffle=True,  #shuffles the data feeded to the model while training\n",
    "    seed=None,\n",
    "    validation_split=None,\n",
    "    subset=None,\n",
    "    interpolation=\"bilinear\",\n",
    "    follow_links=False,\n",
    "    crop_to_aspect_ratio=False,\n",
    ")"
   ]
  },
  {
   "cell_type": "markdown",
   "id": "1b41714d-9fa7-43e1-9f4d-15fcfa3c61c0",
   "metadata": {},
   "source": [
    "### Validation Image Preprocessing"
   ]
  },
  {
   "cell_type": "code",
   "execution_count": 9,
   "id": "0216f1bb-28dd-4a44-8d8c-1706518e3b3e",
   "metadata": {},
   "outputs": [
    {
     "name": "stdout",
     "output_type": "stream",
     "text": [
      "Found 244 files belonging to 7 classes.\n"
     ]
    }
   ],
   "source": [
    "validation_set = tf.keras.utils.image_dataset_from_directory(\n",
    "    'valid',\n",
    "    labels=\"inferred\",\n",
    "    label_mode=\"categorical\", ##label_mode = \"categorical\" , as we are solving problem of 7 classes, multiclasses(more than 2 classes), model should predict the correct class\n",
    "    class_names=None, # same name as of sub-directory name\n",
    "    color_mode=\"rgb\",\n",
    "    batch_size=32,\n",
    "    image_size=(128, 128),  \n",
    "    shuffle=True,  #shuffles the data feeded to the model while training\n",
    "    seed=None,\n",
    "    validation_split=None,\n",
    "    subset=None,\n",
    "    interpolation=\"bilinear\",\n",
    "    follow_links=False,\n",
    "    crop_to_aspect_ratio=False,\n",
    ")"
   ]
  },
  {
   "cell_type": "code",
   "execution_count": 4,
   "id": "7d85b2ce-4fd8-4c69-8b8b-e9470faf9158",
   "metadata": {},
   "outputs": [
    {
     "data": {
      "text/plain": [
       "<BatchDataset element_spec=(TensorSpec(shape=(None, 128, 128, 3), dtype=tf.float32, name=None), TensorSpec(shape=(None, 7), dtype=tf.float32, name=None))>"
      ]
     },
     "execution_count": 4,
     "metadata": {},
     "output_type": "execute_result"
    }
   ],
   "source": [
    "training_set"
   ]
  },
  {
   "cell_type": "code",
   "execution_count": 5,
   "id": "3c856fdf-170c-489c-bcb6-eeadd1c7884e",
   "metadata": {
    "scrolled": true
   },
   "outputs": [
    {
     "name": "stdout",
     "output_type": "stream",
     "text": [
      "tf.Tensor(\n",
      "[[[[  0.         0.         0.      ]\n",
      "   [  0.         0.         0.      ]\n",
      "   [  0.         0.         0.      ]\n",
      "   ...\n",
      "   [  0.         0.         0.      ]\n",
      "   [  0.         0.         0.      ]\n",
      "   [  0.         0.         0.      ]]\n",
      "\n",
      "  [[  0.         0.         0.      ]\n",
      "   [  0.         0.         0.      ]\n",
      "   [  0.         0.         0.      ]\n",
      "   ...\n",
      "   [  0.         0.         0.      ]\n",
      "   [  0.         0.         0.      ]\n",
      "   [  0.         0.         0.      ]]\n",
      "\n",
      "  [[  0.         0.         0.      ]\n",
      "   [  0.         0.         0.      ]\n",
      "   [  0.         0.         0.      ]\n",
      "   ...\n",
      "   [  0.         0.         0.      ]\n",
      "   [  0.         0.         0.      ]\n",
      "   [  0.         0.         0.      ]]\n",
      "\n",
      "  ...\n",
      "\n",
      "  [[  0.         0.         0.      ]\n",
      "   [  0.         0.         0.      ]\n",
      "   [  0.         0.         0.      ]\n",
      "   ...\n",
      "   [  0.         0.         0.      ]\n",
      "   [  0.         0.         0.      ]\n",
      "   [  0.         0.         0.      ]]\n",
      "\n",
      "  [[  0.         0.         0.      ]\n",
      "   [  0.         0.         0.      ]\n",
      "   [  0.         0.         0.      ]\n",
      "   ...\n",
      "   [  0.         0.         0.      ]\n",
      "   [  0.         0.         0.      ]\n",
      "   [  0.         0.         0.      ]]\n",
      "\n",
      "  [[  0.         0.         0.      ]\n",
      "   [  0.         0.         0.      ]\n",
      "   [  0.         0.         0.      ]\n",
      "   ...\n",
      "   [  0.         0.         0.      ]\n",
      "   [  0.         0.         0.      ]\n",
      "   [  0.         0.         0.      ]]]\n",
      "\n",
      "\n",
      " [[[ 55.5       43.75      16.75    ]\n",
      "   [ 41.25      24.75       3.25    ]\n",
      "   [ 36.25      23.5        6.      ]\n",
      "   ...\n",
      "   [ 33.75      35.25       0.      ]\n",
      "   [ 38.75      38.         2.25    ]\n",
      "   [ 37.5       34.5        2.5     ]]\n",
      "\n",
      "  [[ 89.75      72.75      37.5     ]\n",
      "   [ 56.        40.         6.75    ]\n",
      "   [ 60.        52.        17.5     ]\n",
      "   ...\n",
      "   [ 36.5       35.25       2.75    ]\n",
      "   [ 47.25      42.5        8.      ]\n",
      "   [ 47.5       42.5        7.      ]]\n",
      "\n",
      "  [[134.25     108.        63.      ]\n",
      "   [132.       116.25      65.25    ]\n",
      "   [129.5      125.5       70.5     ]\n",
      "   ...\n",
      "   [ 47.75      37.75      12.      ]\n",
      "   [ 68.25      53.25      22.25    ]\n",
      "   [ 68.75      53.        18.25    ]]\n",
      "\n",
      "  ...\n",
      "\n",
      "  [[ 82.75      79.75      29.      ]\n",
      "   [ 38.75      37.25      10.5     ]\n",
      "   [ 26.25      19.75       0.5     ]\n",
      "   ...\n",
      "   [ 22.75      21.75       0.      ]\n",
      "   [ 39.25      30.25       6.      ]\n",
      "   [119.       101.25      76.25    ]]\n",
      "\n",
      "  [[121.5      115.75      61.75    ]\n",
      "   [ 33.25      29.5        2.      ]\n",
      "   [ 44.25      32.75       8.      ]\n",
      "   ...\n",
      "   [ 20.5       20.         0.      ]\n",
      "   [ 31.        26.         2.      ]\n",
      "   [ 93.5       81.        57.      ]]\n",
      "\n",
      "  [[ 96.        99.        45.75    ]\n",
      "   [ 46.25      44.25      10.5     ]\n",
      "   [ 87.25      70.        33.75    ]\n",
      "   ...\n",
      "   [ 22.        22.75       0.      ]\n",
      "   [ 25.5       22.5        0.25    ]\n",
      "   [ 56.        48.5       24.      ]]]\n",
      "\n",
      "\n",
      " [[[  0.         0.         0.      ]\n",
      "   [  0.         0.         0.      ]\n",
      "   [  0.         0.         0.      ]\n",
      "   ...\n",
      "   [  0.         0.         0.      ]\n",
      "   [  0.         0.         0.      ]\n",
      "   [  0.         0.         0.      ]]\n",
      "\n",
      "  [[  0.         0.         0.      ]\n",
      "   [  0.         0.         0.      ]\n",
      "   [  0.         0.         0.      ]\n",
      "   ...\n",
      "   [  0.         0.         0.      ]\n",
      "   [  0.         0.         0.      ]\n",
      "   [  0.         0.         0.      ]]\n",
      "\n",
      "  [[  0.         0.         0.      ]\n",
      "   [  0.         0.         0.      ]\n",
      "   [  0.         0.         0.      ]\n",
      "   ...\n",
      "   [  0.         0.         0.      ]\n",
      "   [  0.         0.         0.      ]\n",
      "   [  0.         0.         0.      ]]\n",
      "\n",
      "  ...\n",
      "\n",
      "  [[  0.         0.         0.      ]\n",
      "   [  0.         0.         0.      ]\n",
      "   [  0.         0.         0.      ]\n",
      "   ...\n",
      "   [  0.         0.         0.      ]\n",
      "   [  0.         0.         0.      ]\n",
      "   [  0.         0.         0.      ]]\n",
      "\n",
      "  [[  0.         0.         0.      ]\n",
      "   [  0.         0.         0.      ]\n",
      "   [  0.         0.         0.      ]\n",
      "   ...\n",
      "   [  0.         0.         0.      ]\n",
      "   [  0.         0.         0.      ]\n",
      "   [  0.         0.         0.      ]]\n",
      "\n",
      "  [[  0.         0.         0.      ]\n",
      "   [  0.         0.         0.      ]\n",
      "   [  0.         0.         0.      ]\n",
      "   ...\n",
      "   [  0.         0.         0.      ]\n",
      "   [  0.         0.         0.      ]\n",
      "   [  0.         0.         0.      ]]]\n",
      "\n",
      "\n",
      " ...\n",
      "\n",
      "\n",
      " [[[144.96094  137.96094  118.96094 ]\n",
      "   [158.52417  151.52417  132.52417 ]\n",
      "   [181.06006  173.06006  154.06006 ]\n",
      "   ...\n",
      "   [157.50122  142.50122  121.50122 ]\n",
      "   [162.40698  147.40698  126.40698 ]\n",
      "   [162.96875  147.96875  126.96875 ]]\n",
      "\n",
      "  [[151.53198  144.53198  125.53198 ]\n",
      "   [147.41626  140.41626  121.41626 ]\n",
      "   [185.01978  177.01978  158.01978 ]\n",
      "   ...\n",
      "   [185.5625   170.5625   149.5625  ]\n",
      "   [185.82031  170.82031  149.82031 ]\n",
      "   [187.28125  172.28125  151.28125 ]]\n",
      "\n",
      "  [[157.1958   150.1958   131.1958  ]\n",
      "   [142.90845  135.90845  116.90845 ]\n",
      "   [179.45386  171.45386  152.45386 ]\n",
      "   ...\n",
      "   [165.96802  150.96802  129.96802 ]\n",
      "   [163.58081  148.58081  127.58081 ]\n",
      "   [168.5      153.5      132.5     ]]\n",
      "\n",
      "  ...\n",
      "\n",
      "  [[ 87.28247  113.00244   71.447754]\n",
      "   [112.51001  136.56885   96.436035]\n",
      "   [133.45312  158.30298  118.795166]\n",
      "   ...\n",
      "   [159.2544   143.2544   120.254395]\n",
      "   [177.68066  161.68066  138.68066 ]\n",
      "   [158.6106   142.6106   119.610596]]\n",
      "\n",
      "  [[191.84375  213.84375  175.2351  ]\n",
      "   [187.6206   209.6206   170.90186 ]\n",
      "   [184.40259  206.8125   166.70361 ]\n",
      "   ...\n",
      "   [158.71094  142.71094  119.71094 ]\n",
      "   [171.57593  155.57593  132.57593 ]\n",
      "   [165.35156  149.35156  126.35156 ]]\n",
      "\n",
      "  [[136.77393  159.77393  114.1333  ]\n",
      "   [139.23022  162.23022  116.417725]\n",
      "   [142.28491  166.19116  118.37866 ]\n",
      "   ...\n",
      "   [158.3894   142.3894   119.389404]\n",
      "   [164.48364  148.48364  125.48364 ]\n",
      "   [172.72656  156.72656  133.72656 ]]]\n",
      "\n",
      "\n",
      " [[[  2.         2.         4.      ]\n",
      "   [  0.         0.         0.      ]\n",
      "   [  9.        10.         5.      ]\n",
      "   ...\n",
      "   [  0.         0.         0.      ]\n",
      "   [  0.         0.         0.      ]\n",
      "   [  0.         0.         0.      ]]\n",
      "\n",
      "  [[  0.         0.         2.      ]\n",
      "   [  0.         0.         0.      ]\n",
      "   [  0.         1.         0.      ]\n",
      "   ...\n",
      "   [  0.         0.         0.      ]\n",
      "   [  0.         0.         0.      ]\n",
      "   [  0.         0.         0.      ]]\n",
      "\n",
      "  [[  0.         0.         2.      ]\n",
      "   [  0.         0.         0.      ]\n",
      "   [  0.         1.         0.      ]\n",
      "   ...\n",
      "   [  0.         0.         0.      ]\n",
      "   [  0.         0.         0.      ]\n",
      "   [  0.         0.         0.      ]]\n",
      "\n",
      "  ...\n",
      "\n",
      "  [[101.       108.       124.      ]\n",
      "   [107.       114.       130.      ]\n",
      "   [112.       119.       135.      ]\n",
      "   ...\n",
      "   [143.       148.       128.      ]\n",
      "   [234.       244.       219.      ]\n",
      "   [  8.         9.         1.      ]]\n",
      "\n",
      "  [[105.       111.       123.      ]\n",
      "   [114.       120.       132.      ]\n",
      "   [112.       118.       130.      ]\n",
      "   ...\n",
      "   [193.       212.       166.      ]\n",
      "   [148.       171.       125.      ]\n",
      "   [  0.        10.         0.      ]]\n",
      "\n",
      "  [[104.       108.       119.      ]\n",
      "   [106.       110.       121.      ]\n",
      "   [110.       114.       125.      ]\n",
      "   ...\n",
      "   [155.       172.       127.      ]\n",
      "   [135.       160.       103.      ]\n",
      "   [ 13.        26.         8.      ]]]\n",
      "\n",
      "\n",
      " [[[ 90.       110.       134.      ]\n",
      "   [ 94.       114.       138.      ]\n",
      "   [104.       124.       148.      ]\n",
      "   ...\n",
      "   [120.       111.       102.      ]\n",
      "   [112.       103.        94.      ]\n",
      "   [108.        99.        90.      ]]\n",
      "\n",
      "  [[108.       130.       154.      ]\n",
      "   [113.       135.       159.      ]\n",
      "   [109.       131.       155.      ]\n",
      "   ...\n",
      "   [123.       114.       105.      ]\n",
      "   [115.       106.        97.      ]\n",
      "   [115.       106.        97.      ]]\n",
      "\n",
      "  [[103.       127.       155.      ]\n",
      "   [104.       128.       156.      ]\n",
      "   [112.       136.       164.      ]\n",
      "   ...\n",
      "   [125.       116.       107.      ]\n",
      "   [120.       111.       102.      ]\n",
      "   [124.       115.       106.      ]]\n",
      "\n",
      "  ...\n",
      "\n",
      "  [[183.       149.       124.      ]\n",
      "   [188.       154.       129.      ]\n",
      "   [174.       140.       115.      ]\n",
      "   ...\n",
      "   [124.        91.        58.      ]\n",
      "   [ 96.        66.        38.      ]\n",
      "   [134.       101.        68.      ]]\n",
      "\n",
      "  [[170.       136.       111.      ]\n",
      "   [202.       168.       143.      ]\n",
      "   [193.       159.       134.      ]\n",
      "   ...\n",
      "   [148.       115.        82.      ]\n",
      "   [ 97.        67.        39.      ]\n",
      "   [134.       101.        68.      ]]\n",
      "\n",
      "  [[186.       152.       127.      ]\n",
      "   [177.       143.       118.      ]\n",
      "   [127.        93.        68.      ]\n",
      "   ...\n",
      "   [144.       111.        78.      ]\n",
      "   [135.       105.        77.      ]\n",
      "   [147.       114.        81.      ]]]], shape=(32, 128, 128, 3), dtype=float32) (32, 128, 128, 3)\n",
      "tf.Tensor(\n",
      "[[0. 0. 0. 0. 0. 0. 1.]\n",
      " [0. 0. 0. 1. 0. 0. 0.]\n",
      " [0. 0. 0. 0. 0. 0. 1.]\n",
      " [0. 0. 0. 0. 0. 1. 0.]\n",
      " [0. 0. 0. 1. 0. 0. 0.]\n",
      " [0. 0. 0. 0. 0. 0. 1.]\n",
      " [0. 0. 0. 0. 0. 0. 1.]\n",
      " [0. 0. 1. 0. 0. 0. 0.]\n",
      " [1. 0. 0. 0. 0. 0. 0.]\n",
      " [0. 0. 0. 1. 0. 0. 0.]\n",
      " [0. 0. 0. 0. 0. 0. 1.]\n",
      " [1. 0. 0. 0. 0. 0. 0.]\n",
      " [0. 0. 0. 0. 1. 0. 0.]\n",
      " [0. 1. 0. 0. 0. 0. 0.]\n",
      " [0. 0. 0. 0. 0. 1. 0.]\n",
      " [0. 0. 0. 0. 1. 0. 0.]\n",
      " [1. 0. 0. 0. 0. 0. 0.]\n",
      " [0. 0. 1. 0. 0. 0. 0.]\n",
      " [0. 0. 0. 0. 1. 0. 0.]\n",
      " [0. 0. 0. 1. 0. 0. 0.]\n",
      " [0. 0. 0. 1. 0. 0. 0.]\n",
      " [0. 0. 0. 0. 1. 0. 0.]\n",
      " [0. 1. 0. 0. 0. 0. 0.]\n",
      " [0. 1. 0. 0. 0. 0. 0.]\n",
      " [0. 0. 0. 0. 0. 0. 1.]\n",
      " [0. 0. 0. 0. 0. 0. 1.]\n",
      " [0. 0. 0. 0. 0. 1. 0.]\n",
      " [0. 0. 1. 0. 0. 0. 0.]\n",
      " [0. 1. 0. 0. 0. 0. 0.]\n",
      " [1. 0. 0. 0. 0. 0. 0.]\n",
      " [0. 0. 1. 0. 0. 0. 0.]\n",
      " [0. 0. 1. 0. 0. 0. 0.]], shape=(32, 7), dtype=float32) (32, 7)\n"
     ]
    }
   ],
   "source": [
    "for x,y in training_set:\n",
    "    print(x, x.shape)\n",
    "    print(y, y.shape)\n",
    "    break"
   ]
  },
  {
   "cell_type": "markdown",
   "id": "89021fa8-bf4d-4aa7-ac73-435040d699c7",
   "metadata": {},
   "source": [
    "## Building Model"
   ]
  },
  {
   "cell_type": "code",
   "execution_count": 6,
   "id": "71950e41-2472-4ae8-b3f5-ecc7bd0be872",
   "metadata": {},
   "outputs": [
    {
     "name": "stdout",
     "output_type": "stream",
     "text": [
      "Imported\n"
     ]
    }
   ],
   "source": [
    "from tensorflow.keras.layers import Dense, Conv2D, Flatten   #used for convolutional operations, flattening\n",
    "from tensorflow.keras.layers import MaxPool2D   #used for pooling\n",
    "from tensorflow.keras.models import Sequential   #used to build the sequential model\n",
    "print(\"Imported\")"
   ]
  },
  {
   "cell_type": "markdown",
   "id": "2cd4a19e-5a76-4044-a4a9-ae9e158efd61",
   "metadata": {},
   "source": [
    "### Creating the model"
   ]
  },
  {
   "cell_type": "code",
   "execution_count": 7,
   "id": "84e197c7-1490-4428-a1b2-9a7f984ca7d1",
   "metadata": {},
   "outputs": [
    {
     "name": "stdout",
     "output_type": "stream",
     "text": [
      "Created\n"
     ]
    }
   ],
   "source": [
    "model = Sequential()   #object of the sequential library\n",
    "print(\"Created\")"
   ]
  },
  {
   "cell_type": "markdown",
   "id": "4e2f8d1f-87fc-418a-902d-512cf9ea2ccb",
   "metadata": {},
   "source": [
    "### Building the Convolutional Layer\n",
    "### Layer 1 32 filters"
   ]
  },
  {
   "cell_type": "code",
   "execution_count": 8,
   "id": "58aed1a0-ccca-4231-b799-e3d91e430d64",
   "metadata": {},
   "outputs": [
    {
     "name": "stdout",
     "output_type": "stream",
     "text": [
      "Added First Layer\n"
     ]
    }
   ],
   "source": [
    "model.add(Conv2D(filters=32, kernel_size=3, padding='same', activation='relu', input_shape = [128, 128, 3]))\n",
    "model.add(Conv2D(filters=32, kernel_size=3, padding=\"same\", activation='relu'))\n",
    "model.add(MaxPool2D(pool_size=2, strides=2))\n",
    "print(\"Added First Layer\")"
   ]
  },
  {
   "cell_type": "markdown",
   "id": "251a05f1-ae27-40ed-9d7b-7fd3caf06333",
   "metadata": {},
   "source": [
    "### Layer 2 64 filters"
   ]
  },
  {
   "cell_type": "code",
   "execution_count": 9,
   "id": "e3719fa5-69f2-4b0a-aa25-ed98c0b78659",
   "metadata": {},
   "outputs": [
    {
     "name": "stdout",
     "output_type": "stream",
     "text": [
      "Added second Layer\n"
     ]
    }
   ],
   "source": [
    "model.add(Conv2D(filters=64, kernel_size=3, padding=\"same\", activation=\"relu\"))\n",
    "model.add(Conv2D(filters=64, kernel_size=3, padding=\"same\", activation=\"relu\"))\n",
    "model.add(MaxPool2D(pool_size = 2, strides = 2))\n",
    "print(\"Added second Layer\")"
   ]
  },
  {
   "cell_type": "markdown",
   "id": "5dbbaa96-f2f2-41a5-be09-89ab6804e0f9",
   "metadata": {},
   "source": [
    "### Layer 3 128 filters"
   ]
  },
  {
   "cell_type": "code",
   "execution_count": 10,
   "id": "4de56ddd-c8e0-4968-8e48-6897a9063c14",
   "metadata": {},
   "outputs": [
    {
     "name": "stdout",
     "output_type": "stream",
     "text": [
      "Added third Layer\n"
     ]
    }
   ],
   "source": [
    "model.add(Conv2D(filters=128, kernel_size=3, padding=\"same\", activation=\"relu\"))\n",
    "model.add(Conv2D(filters=128, kernel_size=3, padding=\"same\", activation=\"relu\"))\n",
    "model.add(MaxPool2D(pool_size = 2, strides = 2))\n",
    "print(\"Added third Layer\")"
   ]
  },
  {
   "cell_type": "markdown",
   "id": "a174fa4d-c44c-43f0-aa48-31e91f706318",
   "metadata": {},
   "source": [
    "### Layer 4 256 filters"
   ]
  },
  {
   "cell_type": "code",
   "execution_count": 11,
   "id": "db640ead-1d9e-4d24-958a-7888f5865aef",
   "metadata": {},
   "outputs": [
    {
     "name": "stdout",
     "output_type": "stream",
     "text": [
      "Added fourth Layer\n"
     ]
    }
   ],
   "source": [
    "model.add(Conv2D(filters=256, kernel_size=3, padding=\"same\", activation=\"relu\"))\n",
    "model.add(Conv2D(filters=256, kernel_size=3, padding=\"same\", activation=\"relu\"))\n",
    "model.add(MaxPool2D(pool_size = 2, strides = 2))\n",
    "print(\"Added fourth Layer\")"
   ]
  },
  {
   "cell_type": "markdown",
   "id": "15b64456-7c58-4bbb-bba9-a247114f2f11",
   "metadata": {},
   "source": [
    "### Flattening the input"
   ]
  },
  {
   "cell_type": "code",
   "execution_count": 12,
   "id": "4b71fdba-d088-4365-abc1-1ba2ccec0e15",
   "metadata": {},
   "outputs": [
    {
     "name": "stdout",
     "output_type": "stream",
     "text": [
      "Flatenned\n"
     ]
    }
   ],
   "source": [
    "model.add(Flatten())\n",
    "print(\"Flatenned\")"
   ]
  },
  {
   "cell_type": "markdown",
   "id": "c0e903d3-a325-4ae4-8f20-7c7df54b6485",
   "metadata": {},
   "source": [
    "### Add Hidden Layers"
   ]
  },
  {
   "cell_type": "code",
   "execution_count": 13,
   "id": "7ff01366-e9af-4634-a2ce-aa28e991d276",
   "metadata": {},
   "outputs": [
    {
     "name": "stdout",
     "output_type": "stream",
     "text": [
      "Added hidden layers\n"
     ]
    }
   ],
   "source": [
    "model.add(Dense(units=1024, activation=\"relu\"))\n",
    "print(\"Added hidden layers\")"
   ]
  },
  {
   "cell_type": "markdown",
   "id": "9935ba37-9c07-40c6-9ce4-37733057145f",
   "metadata": {},
   "source": [
    "### Add the output"
   ]
  },
  {
   "cell_type": "code",
   "execution_count": 14,
   "id": "67780f70-8149-4ca2-a0f4-196f0aa46665",
   "metadata": {},
   "outputs": [
    {
     "name": "stdout",
     "output_type": "stream",
     "text": [
      "Added the final Output layer\n"
     ]
    }
   ],
   "source": [
    "model.add(Dense(units=7, activation='softmax'))   #38 neurons for 13 classes in total, and it will probablity for each class.\n",
    "print(\"Added the final Output layer\")"
   ]
  },
  {
   "cell_type": "markdown",
   "id": "6be2beb1-437d-414c-afb6-040241f25abc",
   "metadata": {},
   "source": [
    "### Compile the Model "
   ]
  },
  {
   "cell_type": "code",
   "execution_count": 15,
   "id": "bda913ad-6bbc-4bff-87af-14b01c250069",
   "metadata": {},
   "outputs": [
    {
     "name": "stdout",
     "output_type": "stream",
     "text": [
      "Compiled Successfully\n"
     ]
    }
   ],
   "source": [
    "model.compile(optimizer='Adam', loss='categorical_crossentropy', metrics=['accuracy'])\n",
    "print(\"Compiled Successfully\")"
   ]
  },
  {
   "cell_type": "markdown",
   "id": "9746009b-b439-453b-b708-8c3ee20f36b9",
   "metadata": {},
   "source": [
    "### Model Summary"
   ]
  },
  {
   "cell_type": "code",
   "execution_count": 16,
   "id": "15585c55-7459-4bad-9249-9a147202b6aa",
   "metadata": {},
   "outputs": [
    {
     "name": "stdout",
     "output_type": "stream",
     "text": [
      "Model: \"sequential\"\n",
      "_________________________________________________________________\n",
      " Layer (type)                Output Shape              Param #   \n",
      "=================================================================\n",
      " conv2d (Conv2D)             (None, 128, 128, 32)      896       \n",
      "                                                                 \n",
      " conv2d_1 (Conv2D)           (None, 128, 128, 32)      9248      \n",
      "                                                                 \n",
      " max_pooling2d (MaxPooling2D  (None, 64, 64, 32)       0         \n",
      " )                                                               \n",
      "                                                                 \n",
      " conv2d_2 (Conv2D)           (None, 64, 64, 64)        18496     \n",
      "                                                                 \n",
      " conv2d_3 (Conv2D)           (None, 64, 64, 64)        36928     \n",
      "                                                                 \n",
      " max_pooling2d_1 (MaxPooling  (None, 32, 32, 64)       0         \n",
      " 2D)                                                             \n",
      "                                                                 \n",
      " conv2d_4 (Conv2D)           (None, 32, 32, 128)       73856     \n",
      "                                                                 \n",
      " conv2d_5 (Conv2D)           (None, 32, 32, 128)       147584    \n",
      "                                                                 \n",
      " max_pooling2d_2 (MaxPooling  (None, 16, 16, 128)      0         \n",
      " 2D)                                                             \n",
      "                                                                 \n",
      " conv2d_6 (Conv2D)           (None, 16, 16, 256)       295168    \n",
      "                                                                 \n",
      " conv2d_7 (Conv2D)           (None, 16, 16, 256)       590080    \n",
      "                                                                 \n",
      " max_pooling2d_3 (MaxPooling  (None, 8, 8, 256)        0         \n",
      " 2D)                                                             \n",
      "                                                                 \n",
      " flatten (Flatten)           (None, 16384)             0         \n",
      "                                                                 \n",
      " dense (Dense)               (None, 1024)              16778240  \n",
      "                                                                 \n",
      " dense_1 (Dense)             (None, 7)                 7175      \n",
      "                                                                 \n",
      "=================================================================\n",
      "Total params: 17,957,671\n",
      "Trainable params: 17,957,671\n",
      "Non-trainable params: 0\n",
      "_________________________________________________________________\n"
     ]
    }
   ],
   "source": [
    "model.summary()"
   ]
  },
  {
   "cell_type": "markdown",
   "id": "da4a86ae-5f15-47a8-840e-77afc711e478",
   "metadata": {},
   "source": [
    "## Model Training"
   ]
  },
  {
   "cell_type": "code",
   "execution_count": 18,
   "id": "e2e1fc82-7df4-4365-8c63-2524faecab28",
   "metadata": {},
   "outputs": [
    {
     "name": "stdout",
     "output_type": "stream",
     "text": [
      "Model Started to Train\n",
      "Epoch 1/10\n",
      "20/20 [==============================] - 45s 2s/step - loss: 1.6633 - accuracy: 0.3201 - val_loss: 1.4184 - val_accuracy: 0.3893\n",
      "Epoch 2/10\n",
      "20/20 [==============================] - 43s 2s/step - loss: 0.8788 - accuracy: 0.6640 - val_loss: 0.9896 - val_accuracy: 0.5287\n",
      "Epoch 3/10\n",
      "20/20 [==============================] - 42s 2s/step - loss: 0.5948 - accuracy: 0.7659 - val_loss: 0.5853 - val_accuracy: 0.7500\n",
      "Epoch 4/10\n",
      "20/20 [==============================] - 42s 2s/step - loss: 0.5274 - accuracy: 0.7755 - val_loss: 0.7957 - val_accuracy: 0.7377\n",
      "Epoch 5/10\n",
      "20/20 [==============================] - 42s 2s/step - loss: 0.5488 - accuracy: 0.7994 - val_loss: 0.5364 - val_accuracy: 0.8074\n",
      "Epoch 6/10\n",
      "20/20 [==============================] - 42s 2s/step - loss: 0.4274 - accuracy: 0.8360 - val_loss: 0.6704 - val_accuracy: 0.7582\n",
      "Epoch 7/10\n",
      "20/20 [==============================] - 42s 2s/step - loss: 0.5728 - accuracy: 0.7834 - val_loss: 0.6441 - val_accuracy: 0.7787\n",
      "Epoch 8/10\n",
      "20/20 [==============================] - 43s 2s/step - loss: 0.4360 - accuracy: 0.8344 - val_loss: 0.3973 - val_accuracy: 0.8361\n",
      "Epoch 9/10\n",
      "20/20 [==============================] - 40s 2s/step - loss: 0.2872 - accuracy: 0.8949 - val_loss: 0.3327 - val_accuracy: 0.8607\n",
      "Epoch 10/10\n",
      "20/20 [==============================] - 45s 2s/step - loss: 0.2538 - accuracy: 0.9156 - val_loss: 0.6780 - val_accuracy: 0.7992\n",
      "Model Training Finished\n"
     ]
    }
   ],
   "source": [
    "print(\"Model Started to Train\")\n",
    "training_history = model.fit(x=training_set, validation_data=validation_set, epochs=10)\n",
    "print(\"Model Training Finished\")"
   ]
  },
  {
   "cell_type": "markdown",
   "id": "ae879ae8-f836-48a9-a99f-de41af62fa4c",
   "metadata": {},
   "source": [
    "### Model Evaluation"
   ]
  },
  {
   "cell_type": "code",
   "execution_count": 19,
   "id": "b279cc36-40be-48f3-9915-2ab31fb5540c",
   "metadata": {},
   "outputs": [
    {
     "name": "stdout",
     "output_type": "stream",
     "text": [
      "20/20 [==============================] - 11s 463ms/step - loss: 0.3765 - accuracy: 0.8726\n"
     ]
    }
   ],
   "source": [
    "#model evaluation on training set\n",
    "train_loss, train_acc = model.evaluate(training_set)"
   ]
  },
  {
   "cell_type": "code",
   "execution_count": 20,
   "id": "da8745c0-31c2-4b3c-97c7-f20732896d05",
   "metadata": {},
   "outputs": [
    {
     "name": "stdout",
     "output_type": "stream",
     "text": [
      "0.3764992654323578 0.8726114630699158\n"
     ]
    }
   ],
   "source": [
    "print(train_loss, train_acc)"
   ]
  },
  {
   "cell_type": "code",
   "execution_count": 21,
   "id": "6c15cb43-c1c0-4734-9fb1-b04799b9e055",
   "metadata": {},
   "outputs": [
    {
     "name": "stdout",
     "output_type": "stream",
     "text": [
      "8/8 [==============================] - 5s 367ms/step - loss: 0.6780 - accuracy: 0.7992\n"
     ]
    }
   ],
   "source": [
    "#model evaluation on validation set\n",
    "val_loss, val_acc = model.evaluate(validation_set)"
   ]
  },
  {
   "cell_type": "code",
   "execution_count": 22,
   "id": "6dd53dd9-7d3e-4e31-a266-c9eb2c7484f7",
   "metadata": {},
   "outputs": [
    {
     "name": "stdout",
     "output_type": "stream",
     "text": [
      "0.6780411005020142 0.7991803288459778\n"
     ]
    }
   ],
   "source": [
    "print(val_loss, val_acc)"
   ]
  },
  {
   "cell_type": "markdown",
   "id": "453fb811-0ec2-4577-b4fe-c06895c668ef",
   "metadata": {},
   "source": [
    "##  Model Saving"
   ]
  },
  {
   "cell_type": "code",
   "execution_count": 23,
   "id": "c008500e-9189-4d72-ae7b-d9e352bfa63e",
   "metadata": {},
   "outputs": [
    {
     "name": "stdout",
     "output_type": "stream",
     "text": [
      "Model Saved Successfully\n"
     ]
    }
   ],
   "source": [
    "model.save(\"weed_trained_Model.keras\")\n",
    "print(\"Model Saved Successfully\")"
   ]
  },
  {
   "cell_type": "code",
   "execution_count": null,
   "id": "2563a90f-2bba-4d12-8f3d-9eb2e98c3929",
   "metadata": {},
   "outputs": [],
   "source": [
    "from tensorflow.keras.models import load_model\n",
    "# Load the saved model\n",
    "model = load_model('weed_trained_Model.keras')\n",
    "\n",
    "print(\"Model Loaded Successfully\")\n",
    "\n",
    "# Optionally, display the model summary\n",
    "model.summary()"
   ]
  },
  {
   "cell_type": "markdown",
   "id": "f0be5cf9-2a0b-4104-8ce5-f5379ce7f412",
   "metadata": {},
   "source": [
    "### Printing Model History and Visualising the Model Metrics"
   ]
  },
  {
   "cell_type": "code",
   "execution_count": null,
   "id": "f4d3481c-0bd3-4482-bebb-f692afe09a0c",
   "metadata": {},
   "outputs": [],
   "source": [
    "# returns the dictionary of history  \n",
    "training_history.history"
   ]
  },
  {
   "cell_type": "markdown",
   "id": "8deabf16-e35c-4fa4-8e51-306b84b4c4e9",
   "metadata": {},
   "source": [
    "### Save Training History"
   ]
  },
  {
   "cell_type": "code",
   "execution_count": 25,
   "id": "53d9491b-d2b7-4d77-931b-18a0fe5a70ad",
   "metadata": {},
   "outputs": [
    {
     "name": "stdout",
     "output_type": "stream",
     "text": [
      "json file created\n"
     ]
    }
   ],
   "source": [
    "# ---------------------------------Recording History in json file----------------------------#\n",
    "# we record this in a json file so that we can use the parameters in the future\n",
    "# import json\n",
    "\n",
    "# # create a file and write the training history in it\n",
    "# with open(\"training_history.json\", \"w\") as f:\n",
    "#     json.dump(training_history.history, f)\n",
    "# print(\"json file created\")"
   ]
  },
  {
   "cell_type": "markdown",
   "id": "0656b036-c910-4608-9944-8f2de8cbf9bf",
   "metadata": {},
   "source": [
    "## Accuracy Visualisation and other Metrics"
   ]
  },
  {
   "cell_type": "code",
   "execution_count": null,
   "id": "9d230897-26a0-49b4-a827-0f49ba3fad6b",
   "metadata": {},
   "outputs": [],
   "source": [
    "training_history.history['accuracy']"
   ]
  },
  {
   "cell_type": "code",
   "execution_count": null,
   "id": "9f6c73a0-1b6f-4287-b90d-79b3d655fbb1",
   "metadata": {},
   "outputs": [],
   "source": [
    "##plotting\n",
    "epochs = [i for i in range(1,4)]\n",
    "epochs\n",
    "plt.plot(epochs, training_history.history['accuracy'], color='red', label='Train Accuracy')\n",
    "plt.plot(epochs, training_history.history['val_accuracy'], color='green', label='Validation Accuracy')"
   ]
  },
  {
   "cell_type": "markdown",
   "id": "54065b6a-bf8b-497d-a234-b9fcfcfe8cdc",
   "metadata": {},
   "source": [
    "### Accuracy by reading from the json file"
   ]
  },
  {
   "cell_type": "code",
   "execution_count": 1,
   "id": "0ff96aea-6549-4332-8ce3-3045df895d8c",
   "metadata": {},
   "outputs": [
    {
     "name": "stdout",
     "output_type": "stream",
     "text": [
      "File opened and read\n"
     ]
    }
   ],
   "source": [
    "### Reading the Metrics from the training.json file\n",
    "import json\n",
    "\n",
    "# Load training history from JSON file\n",
    "with open('training_history.json', 'r') as file:\n",
    "    weed_training_history = json.load(file)\n",
    "\n",
    "print(\"File opened and read\")"
   ]
  },
  {
   "cell_type": "code",
   "execution_count": 2,
   "id": "82a5b0ca-1240-480c-8225-18517917b71f",
   "metadata": {},
   "outputs": [
    {
     "name": "stdout",
     "output_type": "stream",
     "text": [
      "Loaded the Varibles\n"
     ]
    },
    {
     "data": {
      "text/plain": [
       "[0.3893442749977112,\n",
       " 0.5286885499954224,\n",
       " 0.75,\n",
       " 0.7377049326896667,\n",
       " 0.8073770403862,\n",
       " 0.7581967115402222,\n",
       " 0.7786885499954224,\n",
       " 0.8360655903816223,\n",
       " 0.8606557250022888,\n",
       " 0.7991803288459778]"
      ]
     },
     "execution_count": 2,
     "metadata": {},
     "output_type": "execute_result"
    }
   ],
   "source": [
    "### accessing the metrics in the json file\n",
    "train_acc = weed_training_history['accuracy']\n",
    "train_loss = weed_training_history['loss']\n",
    "val_acc = weed_training_history['val_accuracy']\n",
    "val_loss = weed_training_history['val_loss']\n",
    "print(\"Loaded the Varibles\")\n",
    "val_acc"
   ]
  },
  {
   "cell_type": "code",
   "execution_count": 5,
   "id": "87c28254-7bac-41ce-b6c2-7d28f6e30fea",
   "metadata": {},
   "outputs": [
    {
     "data": {
      "image/png": "[encoded data removed]",
      "text/plain": [
       "<Figure size 640x480 with 1 Axes>"
      ]
     },
     "metadata": {},
     "output_type": "display_data"
    }
   ],
   "source": [
    "# 1st Graph; No. of epochs(x) vs Accuracy(y)\n",
    "\n",
    "import matplotlib.pyplot as plt\n",
    "\n",
    "# array 'epochs' to access the elements one by one from the arrays\n",
    "epochs = [i for i in range(10)]\n",
    "\n",
    "# plotting the accuracy\n",
    "plt.plot(epochs, train_acc, color='red', label='Training accuracy')\n",
    "plt.plot(epochs, val_acc, color='green', label='Validation accuracy')\n",
    "plt.title(\"Accuracy Visualisation\")\n",
    "plt.xlabel(\"No. of Epochs\")\n",
    "plt.ylabel(\"Accuracy\")\n",
    "plt.legend()    # to show the key of the graph\n",
    "plt.show()"
   ]
  },
  {
   "cell_type": "markdown",
   "id": "bd2dfba1-9381-4efc-a8da-fd7ac718cefe",
   "metadata": {},
   "source": [
    "### Precision"
   ]
  },
  {
   "cell_type": "code",
   "execution_count": 10,
   "id": "e6b09129-9b86-4df6-838a-4c1a7c655896",
   "metadata": {},
   "outputs": [
    {
     "data": {
      "text/plain": [
       "['Ambrosia_Rag_weed',\n",
       " 'Amsinkia_Chickpeas',\n",
       " 'Cannabis_Marijuana',\n",
       " 'Common_taraxacum_dandelion',\n",
       " 'Erigeron_canadensis_horse_weed',\n",
       " 'Otanthus_maritimus_Cotton_Weed',\n",
       " 'Trianthema_portulacastrum_Pig_Weed']"
      ]
     },
     "execution_count": 10,
     "metadata": {},
     "output_type": "execute_result"
    }
   ],
   "source": [
    "# we will create a class of all 13 classes in the dataset and print the class names\n",
    "class_name = validation_set.class_names\n",
    "class_name"
   ]
  },
  {
   "cell_type": "code",
   "execution_count": 11,
   "id": "96d8c86f-bffd-4b7c-aa4d-a21fac16aa7f",
   "metadata": {},
   "outputs": [
    {
     "name": "stdout",
     "output_type": "stream",
     "text": [
      "Found 244 files belonging to 7 classes.\n"
     ]
    }
   ],
   "source": [
    "# temporarily using validation_set as test_set\n",
    "\n",
    "test_set = tf.keras.utils.image_dataset_from_directory(\n",
    "    'valid',\n",
    "    labels=\"inferred\",\n",
    "    label_mode=\"categorical\", ##label_mode = \"categorical\" , as we are solving problem of 38 classes, multiclasses(more than 2 classes), model should predict the correct class\n",
    "    class_names=None, # same name as of sub-directory name\n",
    "    color_mode=\"rgb\",\n",
    "    batch_size=32,\n",
    "    image_size=(128, 128),  \n",
    "    shuffle=False,  #passing the test_set in alphabet-wise order\n",
    "    seed=None,\n",
    "    validation_split=None,\n",
    "    subset=None,\n",
    "    interpolation=\"bilinear\",\n",
    "    follow_links=False,\n",
    "    crop_to_aspect_ratio=False,\n",
    ")"
   ]
  },
  {
   "cell_type": "markdown",
   "id": "bd54dfe2-9802-43b8-aa68-8a81e0344b6a",
   "metadata": {},
   "source": [
    "### Making Predicting from Validation Set"
   ]
  },
  {
   "cell_type": "code",
   "execution_count": 12,
   "id": "f4d18ee4-d56c-49fb-aa69-83998def0f5d",
   "metadata": {},
   "outputs": [
    {
     "name": "stdout",
     "output_type": "stream",
     "text": [
      "Model Loaded Successfully\n"
     ]
    }
   ],
   "source": [
    "## loading the saved model\n",
    "import tensorflow as tf\n",
    "\n",
    "# Load the saved model\n",
    "loaded_model = tf.keras.models.load_model('weed_trained_Model.keras')\n",
    "print(\"Model Loaded Successfully\")\n"
   ]
  },
  {
   "cell_type": "code",
   "execution_count": 13,
   "id": "4b40105d-0fb0-4a2c-8b67-523893a95371",
   "metadata": {},
   "outputs": [
    {
     "name": "stdout",
     "output_type": "stream",
     "text": [
      "8/8 [==============================] - 5s 479ms/step\n"
     ]
    },
    {
     "data": {
      "text/plain": [
       "(array([[2.4345483e-01, 7.9046686e-07, 7.1489263e-01, ..., 3.9908487e-02,\n",
       "         4.7450815e-04, 1.2658826e-03],\n",
       "        [3.1039768e-01, 4.2773581e-06, 4.4290805e-01, ..., 2.4667467e-01,\n",
       "         5.9330609e-06, 5.1239726e-06],\n",
       "        [3.1633425e-01, 4.1818006e-05, 4.4036472e-01, ..., 2.3403066e-01,\n",
       "         7.6684486e-03, 1.1736167e-03],\n",
       "        ...,\n",
       "        [3.7660861e-19, 1.3866232e-27, 1.0762581e-11, ..., 2.9314412e-20,\n",
       "         1.9808819e-19, 1.0000000e+00],\n",
       "        [1.0374028e-15, 1.0918981e-22, 2.1680369e-09, ..., 2.2076369e-13,\n",
       "         1.3101613e-13, 1.0000000e+00],\n",
       "        [1.7600033e-14, 3.7902377e-21, 1.9074992e-13, ..., 1.0698876e-13,\n",
       "         2.8241545e-13, 1.0000000e+00]], dtype=float32),\n",
       " (244, 7))"
      ]
     },
     "execution_count": 13,
     "metadata": {},
     "output_type": "execute_result"
    }
   ],
   "source": [
    "# making prediction on the model on test_set\n",
    "y_pred = loaded_model.predict(test_set)\n",
    "y_pred, y_pred.shape"
   ]
  },
  {
   "cell_type": "code",
   "execution_count": 14,
   "id": "6d0fe60a-6122-4519-a4d8-5a72dbc03872",
   "metadata": {},
   "outputs": [
    {
     "data": {
      "text/plain": [
       "<tf.Tensor: shape=(244,), dtype=int64, numpy=\n",
       "array([2, 2, 2, 0, 4, 4, 2, 2, 0, 0, 0, 2, 0, 0, 2, 0, 4, 2, 2, 0, 4, 0,\n",
       "       2, 2, 4, 1, 1, 1, 1, 1, 1, 4, 1, 1, 1, 1, 1, 1, 1, 1, 1, 1, 1, 1,\n",
       "       1, 4, 1, 1, 1, 1, 1, 1, 4, 1, 0, 2, 2, 2, 2, 2, 2, 2, 2, 2, 2, 2,\n",
       "       2, 2, 2, 2, 2, 2, 2, 2, 2, 2, 2, 2, 2, 2, 2, 2, 2, 5, 2, 2, 2, 2,\n",
       "       2, 2, 2, 2, 2, 2, 2, 2, 2, 2, 2, 2, 2, 2, 3, 3, 3, 3, 3, 2, 3, 3,\n",
       "       3, 3, 2, 3, 3, 3, 2, 2, 3, 3, 3, 3, 2, 3, 3, 2, 2, 4, 4, 4, 2, 4,\n",
       "       4, 4, 2, 2, 0, 2, 2, 4, 2, 4, 4, 4, 4, 4, 0, 4, 2, 4, 2, 2, 4, 2,\n",
       "       2, 5, 5, 5, 5, 5, 5, 5, 5, 5, 5, 5, 5, 5, 5, 5, 5, 5, 5, 5, 5, 5,\n",
       "       5, 5, 5, 5, 5, 5, 5, 5, 5, 5, 5, 5, 5, 5, 5, 5, 5, 5, 5, 5, 2, 6,\n",
       "       6, 6, 6, 6, 6, 6, 6, 6, 6, 6, 5, 2, 6, 6, 6, 6, 6, 6, 6, 6, 2, 2,\n",
       "       6, 6, 2, 6, 6, 6, 6, 6, 2, 5, 6, 6, 6, 6, 6, 6, 6, 6, 6, 6, 6, 6,\n",
       "       6, 6], dtype=int64)>"
      ]
     },
     "execution_count": 14,
     "metadata": {},
     "output_type": "execute_result"
    }
   ],
   "source": [
    "# predicted categories, return the maximum probablity in row fashion\n",
    "pred_categories = tf.argmax(y_pred, axis=1)\n",
    "pred_categories"
   ]
  },
  {
   "cell_type": "code",
   "execution_count": 15,
   "id": "49652c4b-0b47-42a5-8b2a-2fb7dab75980",
   "metadata": {},
   "outputs": [
    {
     "data": {
      "text/plain": [
       "<tf.Tensor: shape=(244, 7), dtype=float32, numpy=\n",
       "array([[1., 0., 0., ..., 0., 0., 0.],\n",
       "       [1., 0., 0., ..., 0., 0., 0.],\n",
       "       [1., 0., 0., ..., 0., 0., 0.],\n",
       "       ...,\n",
       "       [0., 0., 0., ..., 0., 0., 1.],\n",
       "       [0., 0., 0., ..., 0., 0., 1.],\n",
       "       [0., 0., 0., ..., 0., 0., 1.]], dtype=float32)>"
      ]
     },
     "execution_count": 15,
     "metadata": {},
     "output_type": "execute_result"
    }
   ],
   "source": [
    "# actual true categories\n",
    "true_categories = tf.concat([y for x,y in test_set], axis=0)\n",
    "true_categories"
   ]
  },
  {
   "cell_type": "code",
   "execution_count": 16,
   "id": "01e253df-14ff-4b9c-9763-fa7c62980e41",
   "metadata": {},
   "outputs": [
    {
     "data": {
      "text/plain": [
       "<tf.Tensor: shape=(244,), dtype=int64, numpy=\n",
       "array([0, 0, 0, 0, 0, 0, 0, 0, 0, 0, 0, 0, 0, 0, 0, 0, 0, 0, 0, 0, 0, 0,\n",
       "       0, 0, 0, 1, 1, 1, 1, 1, 1, 1, 1, 1, 1, 1, 1, 1, 1, 1, 1, 1, 1, 1,\n",
       "       1, 1, 1, 1, 1, 1, 1, 1, 1, 1, 2, 2, 2, 2, 2, 2, 2, 2, 2, 2, 2, 2,\n",
       "       2, 2, 2, 2, 2, 2, 2, 2, 2, 2, 2, 2, 2, 2, 2, 2, 2, 2, 2, 2, 2, 2,\n",
       "       2, 2, 2, 2, 2, 2, 2, 2, 2, 2, 2, 2, 2, 2, 3, 3, 3, 3, 3, 3, 3, 3,\n",
       "       3, 3, 3, 3, 3, 3, 3, 3, 3, 3, 3, 3, 3, 3, 3, 3, 4, 4, 4, 4, 4, 4,\n",
       "       4, 4, 4, 4, 4, 4, 4, 4, 4, 4, 4, 4, 4, 4, 4, 4, 4, 4, 4, 4, 4, 4,\n",
       "       4, 5, 5, 5, 5, 5, 5, 5, 5, 5, 5, 5, 5, 5, 5, 5, 5, 5, 5, 5, 5, 5,\n",
       "       5, 5, 5, 5, 5, 5, 5, 5, 5, 5, 5, 5, 5, 5, 5, 5, 5, 5, 5, 5, 6, 6,\n",
       "       6, 6, 6, 6, 6, 6, 6, 6, 6, 6, 6, 6, 6, 6, 6, 6, 6, 6, 6, 6, 6, 6,\n",
       "       6, 6, 6, 6, 6, 6, 6, 6, 6, 6, 6, 6, 6, 6, 6, 6, 6, 6, 6, 6, 6, 6,\n",
       "       6, 6], dtype=int64)>"
      ]
     },
     "execution_count": 16,
     "metadata": {},
     "output_type": "execute_result"
    }
   ],
   "source": [
    "# true categories, return the maximum probablity in row fashion\n",
    "Y_true = tf.argmax(true_categories, axis=1)\n",
    "Y_true"
   ]
  },
  {
   "cell_type": "markdown",
   "id": "3938522a-aee7-44b4-98d4-df100c15aa26",
   "metadata": {},
   "source": [
    "### Classification Report"
   ]
  },
  {
   "cell_type": "code",
   "execution_count": 17,
   "id": "eab3ee2f-cbee-4631-991d-36d5822d8cb5",
   "metadata": {},
   "outputs": [
    {
     "name": "stdout",
     "output_type": "stream",
     "text": [
      "                                    precision    recall  f1-score   support\n",
      "\n",
      "                 Ambrosia_Rag_weed       0.75      0.36      0.49        25\n",
      "                Amsinkia_Chickpeas       1.00      0.90      0.95        29\n",
      "                Cannabis_Marijuana       0.57      0.96      0.71        48\n",
      "        Common_taraxacum_dandelion       1.00      0.75      0.86        24\n",
      "    Erigeron_canadensis_horse_weed       0.65      0.52      0.58        29\n",
      "    Otanthus_maritimus_Cotton_Weed       0.93      1.00      0.96        41\n",
      "Trianthema_portulacastrum_Pig_Weed       1.00      0.83      0.91        48\n",
      "\n",
      "                          accuracy                           0.80       244\n",
      "                         macro avg       0.84      0.76      0.78       244\n",
      "                      weighted avg       0.84      0.80      0.80       244\n",
      "\n"
     ]
    }
   ],
   "source": [
    "# its okay to remove this part\n",
    "\n",
    "from sklearn.metrics import classification_report, confusion_matrix\n",
    "print(classification_report(Y_true, pred_categories, target_names=class_name))"
   ]
  },
  {
   "cell_type": "markdown",
   "id": "2ac8caca-3e34-46c8-bb9c-9b8d36784731",
   "metadata": {},
   "source": [
    "### Confusion Matrix"
   ]
  },
  {
   "cell_type": "code",
   "execution_count": 18,
   "id": "5dc91fe7-2266-4a3c-9086-c6262945d91b",
   "metadata": {},
   "outputs": [],
   "source": [
    "# creating the confusion matrix\n",
    "cm = confusion_matrix(Y_true, pred_categories)"
   ]
  },
  {
   "cell_type": "code",
   "execution_count": 19,
   "id": "3374feaf-a9f4-4b73-86d7-b1ab9b7ff5c9",
   "metadata": {},
   "outputs": [
    {
     "data": {
      "image/png": "[encoded data removed]",
      "text/plain": [
       "<Figure size 1000x800 with 2 Axes>"
      ]
     },
     "metadata": {},
     "output_type": "display_data"
    }
   ],
   "source": [
    "# printing the matrix in a plotted form\n",
    "plt.figure(figsize=(10,8))\n",
    "sns.heatmap(cm, annot=True, annot_kws={'fontsize': 10})\n",
    "plt.title(\"Plant Disease Prediction\")\n",
    "plt.xlabel(\"Actual Values\", fontsize=18)\n",
    "plt.ylabel(\"Predicted Values\", fontsize=18)\n",
    "plt.show()"
   ]
  },
  {
   "cell_type": "markdown",
   "id": "fca6962c-cf1b-48d3-8efb-c4bb6715dd19",
   "metadata": {},
   "source": [
    "### The Model has been built and also evaluated based on some metrics"
   ]
  },
  {
   "cell_type": "code",
   "execution_count": null,
   "id": "4249065b-f881-4caf-8d96-c48b9f083c1f",
   "metadata": {},
   "outputs": [],
   "source": []
  }
 ],
 "metadata": {
  "kernelspec": {
   "display_name": "tensorflow",
   "language": "python",
   "name": "tensorflow"
  },
  "language_info": {
   "codemirror_mode": {
    "name": "ipython",
    "version": 3
   },
   "file_extension": ".py",
   "mimetype": "text/x-python",
   "name": "python",
   "nbconvert_exporter": "python",
   "pygments_lexer": "ipython3",
   "version": "3.10.13"
  }
 },
 "nbformat": 4,
 "nbformat_minor": 5
}
